{
 "cells": [
  {
   "cell_type": "code",
   "execution_count": null,
   "id": "2a0dfa84",
   "metadata": {},
   "outputs": [],
   "source": [
    "import json\n",
    "import networkx as nx\n",
    "import networkit as nk\n",
    "import numpy as np\n",
    "from GraphGenerator.preprocessing import dataio\n",
    "import matplotlib.pyplot as plt\n",
    "import os\n",
    "import pickle\n",
    "import scipy"
   ]
  },
  {
   "cell_type": "code",
   "execution_count": null,
   "id": "7160343f",
   "metadata": {},
   "outputs": [],
   "source": [
    "graphs = dataio.load_data('exp/SBM_FIRST2/SBM_FIRSTMM_DB_graph_10_2023-Jun-14-21-02-17_12311//FIRSTMM_DB_graph_10_to_sbm.graphs')\n",
    "#source = dataio.load_data('generated_datasets/src/FIRSTMM_DB/FIRSTMM_DB_2.graph')[0]\n",
    "#source_nk = nk.nxadapter.nx2nk(source)\n",
    "source = dataio.load_data('/home/martin/devel/uni/thesis/Generator/GraphGenerator/generated_datasets/src/FIRSTMM_DB/FIRSTMM_DB_graph_10.graph')[0]"
   ]
  },
  {
   "cell_type": "code",
   "execution_count": null,
   "id": "db74a412",
   "metadata": {},
   "outputs": [],
   "source": [
    "#graphs = pickle.load(open('exp/DD_COLLAB/SBMGNN_DD_graph_1000_2023-Jun-07-08-05-03_348533/DD_graph_1000_to_sbmgnn.graphs', 'rb'))\n",
    "nx.draw(graphs[0].subgraph(max(nx.connected_components(graphs[0]), key=len)))"
   ]
  },
  {
   "cell_type": "code",
   "execution_count": null,
   "id": "f8d9fa26",
   "metadata": {},
   "outputs": [],
   "source": [
    "nx.draw(source)"
   ]
  },
  {
   "cell_type": "code",
   "execution_count": null,
   "id": "3c64b64a",
   "metadata": {},
   "outputs": [],
   "source": [
    "len(graphs[0].subgraph(max(nx.connected_components(graphs[0]), key=len)).nodes)"
   ]
  },
  {
   "cell_type": "code",
   "execution_count": null,
   "id": "d17cf5d0",
   "metadata": {},
   "outputs": [],
   "source": [
    "G = nx.Graph()\n",
    "with open('/home/martin/devel/uni/thesis/benchmark/datasets/FIRSTMMDB/graph_27_0.col') as f:\n",
    "    for line in f.readlines():\n",
    "        if line.startswith(\"e\"):      \n",
    "            s, e = line.split()[1:]\n",
    "            G.add_edge(int(s)-1, int(e)-1)"
   ]
  },
  {
   "cell_type": "code",
   "execution_count": null,
   "id": "7c1964e0",
   "metadata": {},
   "outputs": [],
   "source": [
    "forest = nx.connected_components(G)\n",
    "nodes = max(forest, key=len)\n",
    "target = G.subgraph(nodes)\n"
   ]
  },
  {
   "cell_type": "code",
   "execution_count": null,
   "id": "cc3c2c38",
   "metadata": {},
   "outputs": [],
   "source": [
    "Filter the graph data"
   ]
  },
  {
   "cell_type": "code",
   "execution_count": null,
   "id": "77d3f15c",
   "metadata": {},
   "outputs": [],
   "source": [
    "for file in os.listdir(\"/home/martin/devel/uni/thesis/benchmark/datasets/gran_DD\"):\n",
    "    if file.endswith(\"edgelist\"):\n",
    "        path = os.path.join(\"/home/martin/devel/uni/thesis/benchmark/datasets/gran_DD\", file)\n",
    "        graph = nx.read_edgelist(path)\n",
    "        if check_connected(graph):\n",
    "            #print(file.split(\".\")[0])\n",
    "            target_path = os.path.join(\"/home/martin/devel/uni/thesis/Generator/GraphGenerator/generated_datasets/src/DD_clean/\", file.split(\".\")[0]+\".graph\")\n",
    "            #nx.write_edgelist(graph, target_path, data=False)\n",
    "            #pickle.dump([graph], open(\"{}\".format(target_path), \"wb\"))\n",
    "            with open(target_path, 'wb') as f:\n",
    "                pickle.dump([graph], f, protocol=4)"
   ]
  },
  {
   "cell_type": "code",
   "execution_count": null,
   "id": "e2acf82b",
   "metadata": {},
   "outputs": [],
   "source": [
    "source"
   ]
  },
  {
   "cell_type": "code",
   "execution_count": null,
   "id": "0e2dfd9c",
   "metadata": {},
   "outputs": [],
   "source": [
    "G = dataio.load_data('generated_datasets/src/DD_clean/_graph_0.graph')"
   ]
  },
  {
   "cell_type": "code",
   "execution_count": null,
   "id": "6a80798e",
   "metadata": {},
   "outputs": [],
   "source": [
    "[G.nodes for G in graphs['31']]"
   ]
  },
  {
   "cell_type": "markdown",
   "id": "c34ee1ba",
   "metadata": {},
   "source": [
    "Check if the graphs for that dataset have entries, wich are not connected and if how many."
   ]
  },
  {
   "cell_type": "code",
   "execution_count": null,
   "id": "8455511e",
   "metadata": {},
   "outputs": [],
   "source": [
    "graphs = {}\n",
    "errs = []\n",
    "for root, dirs, files in os.walk(\"exp/DCSBM_FIRST\"):\n",
    "    #print(root)\n",
    "    if \"DCSBM_FIRST\" in root:\n",
    "        startid = root.find(\"graph_\")\n",
    "        endid = root.find(\"_2023\")\n",
    "        graph_id = root[startid+6:endid]\n",
    "        graph_files = [file for file in files if \".graphs\" in file]\n",
    "        if len(graph_files)==0:\n",
    "            errs.append((root, \"no graph\"))\n",
    "            continue\n",
    "        \n",
    "        \n",
    "        file_path = os.path.join(root, graph_files[0])\n",
    "        try:\n",
    "            g_list = dataio.load_data(file_path)\n",
    "            \n",
    "            nnodes = np.array([G.number_of_nodes() for G in g_list]) \n",
    "            mask = (nnodes< 10)\n",
    "            if mask.any():\n",
    "                errs.append((root, f\"{mask.sum()}/{mask.shape[0]} faulty\"))\n",
    "            graphs[graph_id] = graphs.get(graph_id, [])+ [G for i, G in enumerate(g_list) if not mask[i]]\n",
    "        except (pickle.UnpicklingError, EOFError) as e:\n",
    "            errs.append((root, e))\n",
    "def check_connected(x):\n",
    "    return nx.is_tree(nx.minimum_spanning_tree(x))\n",
    "#checked_graphs = {}\n",
    "#for key, value in graphs.items():\n",
    "\n",
    "#    connected = list(map(check_connected, value))\n",
    "#    checked_graphs[key] = sum(connected)/len(connected)\n",
    "#checked_graphs"
   ]
  },
  {
   "cell_type": "code",
   "execution_count": null,
   "id": "ba25ac39",
   "metadata": {},
   "outputs": [],
   "source": [
    "graphs"
   ]
  },
  {
   "cell_type": "code",
   "execution_count": null,
   "id": "9b381e46",
   "metadata": {},
   "outputs": [],
   "source": [
    "not_conn = [k for k,v in checked_graphs.items() if v==0.0]\n",
    "print(\"Number of Graph sets which have no connected entry\", len(not_conn))\n",
    "print(\"Ratio of Graph sets which have no connected entry\", len(not_conn)/len(checked_graphs.keys()))\n",
    "total_ratio = [v*5 for k,v in checked_graphs.items()]\n",
    "print(\"Total of connected graphs\", sum(total_ratio)/(5*len(total_ratio)))"
   ]
  },
  {
   "cell_type": "code",
   "execution_count": null,
   "id": "eab60f94",
   "metadata": {},
   "outputs": [],
   "source": [
    "um(total_ratio)"
   ]
  },
  {
   "cell_type": "markdown",
   "id": "0452b378",
   "metadata": {},
   "source": [
    "Some graphs are dissconnected, even though the original graph was not"
   ]
  },
  {
   "cell_type": "code",
   "execution_count": null,
   "id": "49a0df4b",
   "metadata": {},
   "outputs": [],
   "source": [
    "only_connected = {}\n",
    "for key, value in graphs.items():\n",
    "    connected = list(map(check_connected, value))\n",
    "    clean_graphs = [graph for i, graph in enumerate(value) if connected[i]]\n",
    "    if len(clean_graphs) >0:\n",
    "        only_connected[key] = clean_graphs "
   ]
  },
  {
   "cell_type": "markdown",
   "id": "cfcb53fc",
   "metadata": {},
   "source": [
    "Do spectral analysis for a few graphs"
   ]
  },
  {
   "cell_type": "code",
   "execution_count": null,
   "id": "debd75d9",
   "metadata": {},
   "outputs": [],
   "source": [
    "degrees_source, nNodes_source = get_degree(source)\n",
    "#nNodes_source = (nNodes_source - np.mean(nNodes_source)) / np.std(nNodes_source)\n",
    "plt.figure(figsize=(2,4))\n",
    "plt.plot(degrees_source,nNodes_source)\n",
    "plt.yscale(\"log\")\n",
    "plt.title(\"Node degree\")\n",
    "plt.ylabel(\"number of nodes\")\n",
    "plt.xlabel(\"normalized node degree\")"
   ]
  },
  {
   "cell_type": "code",
   "execution_count": null,
   "id": "408a9c93",
   "metadata": {},
   "outputs": [],
   "source": [
    "#\n",
    "\n",
    "def get_degree(graph):\n",
    "    dd = sorted(nk.centrality.DegreeCentrality(nk.nxadapter.nx2nk(graph), normalized=True).run().scores(), reverse=True)\n",
    "    return np.unique(dd, return_counts=True)\n",
    "def get_max_corr(source, gen):\n",
    "    degrees_source, nNodes_source = get_degree(source)\n",
    "    degrees_gen, nNodes_gen = get_degree(gen)\n",
    "    nNodes_gen = (nNodes_gen - np.mean(nNodes_gen)) / (np.std(nNodes_gen)*len(nNodes_gen))\n",
    "    nNodes_source = (nNodes_source - np.mean(nNodes_source)) / np.std(nNodes_source)\n",
    "    return scipy.signal.correlate(nNodes_gen, nNodes_source).max()\n",
    "def plot_corr(source, gen):\n",
    "    degrees_source, nNodes_source = get_degree(source)\n",
    "    degrees_gen, nNodes_gen = get_degree(gen)\n",
    "    #nNodes_gen_norm = np.ones(nNodes_source.shape)\n",
    "    #corr /= np.max(corr)\n",
    "\n",
    "    #degrees_gen = (degrees_gen - np.mean(degrees_gen)) / (np.std(degrees_gen)*len(degrees_gen))\n",
    "    #\n",
    "\n",
    "    #degrees_gen_norm /= np.linalg.norm(degrees_gen)\n",
    "    #degrees_source_norm /= np.linalg.norm(degrees_source)\n",
    "\n",
    "    nNodes_gen_norm = (nNodes_gen - np.mean(nNodes_gen)) / (np.std(nNodes_gen)*len(nNodes_gen))\n",
    "    nNodes_source_norm = (nNodes_source - np.mean(nNodes_source)) / np.std(nNodes_source)\n",
    "\n",
    "\n",
    "\n",
    "    corr = scipy.signal.correlate(nNodes_source_norm, nNodes_gen_norm, method='fft')\n",
    "    lags = scipy.signal.correlation_lags(len(nNodes_source_norm), len(nNodes_gen_norm))\n",
    "    fig, (ax_orig, ax_noise, ax_corr) = plt.subplots(3, 1, figsize=(4.8, 4.8))\n",
    "    ax_orig.plot(degrees_source, nNodes_source)\n",
    "    ax_orig.set_title('Original signal')\n",
    "    ax_orig.set_yscale(\"log\")\n",
    "\n",
    "    ax_noise.plot(degrees_gen, nNodes_gen)\n",
    "    ax_noise.set_title('Test signal')\n",
    "    ax_noise.set_yscale(\"log\")\n",
    "    #plt.xscale(\"log\")\n",
    "    plt.xlabel(\"degree\")\n",
    "    #plt.yscale(\"log\")\n",
    "    plt.ylabel(\"number of nodes\")\n",
    "    #plt.plot(degrees, numberOfNodes)\n",
    "    ax_corr.plot(lags, corr)\n",
    "    plt.show()\n",
    "\n"
   ]
  },
  {
   "cell_type": "code",
   "execution_count": null,
   "id": "4089ff14",
   "metadata": {},
   "outputs": [],
   "source": [
    "GRAPH = '1058'\n",
    "graphs = only_connected[GRAPH]#dataio.load_data('exp/SBMGNN_COLLAB/SBMGNN_COLLAB_graph_10_2023-Apr-27-16-23-35_517376/COLLAB_graph_10_to_sbmgnn.graphs')\n",
    "source = dataio.load_data(f'generated_datasets/src/COLLAB/COLLAB_graph_{GRAPH}.edgelist.graph')[0]\n",
    "source_nk = nk.nxadapter.nx2nk(source)\n",
    "correlations = {}    \n",
    "for gxid in only_connected.keys():\n",
    "    graphs = only_connected[gxid]#dataio.load_data('exp/SBMGNN_COLLAB/SBMGNN_COLLAB_graph_10_2023-Apr-27-16-23-35_517376/COLLAB_graph_10_to_sbmgnn.graphs')\n",
    "    source = dataio.load_data(f'generated_datasets/src/COLLAB/COLLAB_graph_{gxid}.edgelist.graph')[0]\n",
    "    source_nk = nk.nxadapter.nx2nk(source)\n",
    "    corrs = np.array(list(map(lambda x:get_max_corr(source, x), graphs)))\n",
    "    correlations[gxid] = corrs\n",
    "#_id = np.argmax(corrs)\n",
    "#plot_corr(source, graphs[_id])"
   ]
  },
  {
   "cell_type": "code",
   "execution_count": null,
   "id": "524da619",
   "metadata": {},
   "outputs": [],
   "source": [
    "correlations"
   ]
  },
  {
   "cell_type": "code",
   "execution_count": null,
   "id": "f46f1d87",
   "metadata": {},
   "outputs": [],
   "source": [
    "import numpy\n",
    "#G = nk.nxadapter.nx2nk(graphs[0])\n",
    "def plot_corr_deg(source, gen):\n",
    "    degrees_source, nNodes_source = get_degree(source)\n",
    "    degrees_gen, nNodes_gen = get_degree(gen)\n",
    "    #nNodes_gen_norm = np.ones(nNodes_source.shape)\n",
    "    #corr /= np.max(corr)\n",
    "\n",
    "    #degrees_gen = (degrees_gen - np.mean(degrees_gen)) / (np.std(degrees_gen)*len(degrees_gen))\n",
    "    #\n",
    "\n",
    "    #degrees_gen_norm /= np.linalg.norm(degrees_gen)\n",
    "    #degrees_source_norm /= np.linalg.norm(degrees_source)\n",
    "\n",
    "    nNodes_gen_norm = (nNodes_gen - np.mean(nNodes_gen)) / (np.std(nNodes_gen)*len(nNodes_gen))\n",
    "    nNodes_source_norm = (nNodes_source - np.mean(nNodes_source)) / np.std(nNodes_source)\n",
    "\n",
    "\n",
    "\n",
    "    corr = scipy.signal.correlate(nNodes_source_norm, nNodes_gen_norm, method='fft')\n",
    "    lags = scipy.signal.correlation_lags(len(nNodes_source_norm), len(nNodes_gen_norm))\n",
    "    fig, (ax_orig, ax_noise, ax_corr) = plt.subplots(3, 1, figsize=(4.8, 4.8))\n",
    "    ax_orig.plot(degrees_source, nNodes_source)\n",
    "    ax_orig.set_title('Original Graph')\n",
    "    ax_orig.set_yscale(\"log\")\n",
    "    \n",
    "    print(degrees_source)\n",
    "    ax_noise.plot(degrees_gen, nNodes_gen)\n",
    "    ax_noise.set_title('Generated Graph')\n",
    "    ax_noise.set_yscale(\"log\")\n",
    "    #plt.xscale(\"log\")\n",
    "    plt.xlabel(\"degree\")\n",
    "    #plt.yscale(\"log\")\n",
    "    plt.ylabel(\"number of nodes\")\n",
    "    #plt.plot(degrees, numberOfNodes)\n",
    "    ax_corr.plot(lags, corr)\n",
    "    plt.show()\n",
    "def plot_corr_hist(source, gen):\n",
    "    hist_source, bins_source = np.histogram(list(nx.eigenvector_centrality(source).values()), bins=10)\n",
    "    hist_gen, bins_gen = np.histogram(list(nx.eigenvector_centrality(gen).values()), bins=10)\n",
    "    #nNodes_gen_norm = np.ones(nNodes_source.shape)\n",
    "    #corr /= np.max(corr)\n",
    "\n",
    "    #degrees_gen = (degrees_gen - np.mean(degrees_gen)) / (np.std(degrees_gen)*len(degrees_gen))\n",
    "    #\n",
    "\n",
    "    #degrees_gen_norm /= np.linalg.norm(degrees_gen)\n",
    "    #degrees_source_norm /= np.linalg.norm(degrees_source)\n",
    "\n",
    "    hist_gen_norm = (hist_gen - np.mean(hist_gen)) / (np.std(hist_gen)*len(hist_gen))\n",
    "    hist_source_norm = (hist_source - np.mean(hist_source)) / np.std(hist_source)\n",
    "\n",
    "\n",
    "\n",
    "    corr = scipy.signal.correlate(hist_source_norm, hist_gen_norm, method='fft')\n",
    "    lags = scipy.signal.correlation_lags(len(hist_source_norm), len(hist_gen_norm))\n",
    "    fig, (ax_orig, ax_noise, ax_corr) = plt.subplots(3, 1, figsize=(4.8, 4.8))\n",
    "    ax_orig.plot(bins_source[1:], hist_source)\n",
    "    ax_orig.set_title('Original Graph')\n",
    "    ax_orig.set_yscale(\"log\")\n",
    "    \n",
    "    print(degrees_source)\n",
    "    ax_noise.plot(bins_gen[1:], hist_gen)\n",
    "    ax_noise.set_title('Generated Graph')\n",
    "    ax_noise.set_yscale(\"log\")\n",
    "    #plt.xscale(\"log\")\n",
    "    plt.xlabel(\"degree\")\n",
    "    #plt.yscale(\"log\")\n",
    "    plt.ylabel(\"number of nodes\")\n",
    "    #plt.plot(degrees, numberOfNodes)\n",
    "    ax_corr.plot(lags, corr)\n",
    "    plt.show() \n",
    "    \n",
    "def plot_corr_spect(source, gen):\n",
    "    hist_source, bins_source = np.histogram(list(nx.eigenvector_centrality(source).values()), bins=10)\n",
    "    hist_gen, bins_gen = np.histogram(list(nx.eigenvector_centrality(gen).values()), bins=10)\n",
    "    #nNodes_gen_norm = np.ones(nNodes_source.shape)\n",
    "    #corr /= np.max(corr)\n",
    "\n",
    "    #degrees_gen = (degrees_gen - np.mean(degrees_gen)) / (np.std(degrees_gen)*len(degrees_gen))\n",
    "    #\n",
    "\n",
    "    #degrees_gen_norm /= np.linalg.norm(degrees_gen)\n",
    "    #degrees_source_norm /= np.linalg.norm(degrees_source)\n",
    "\n",
    "    hist_gen_norm = (hist_gen - np.mean(hist_gen)) / (np.std(hist_gen)*len(hist_gen))\n",
    "    hist_source_norm = (hist_source - np.mean(hist_source)) / np.std(hist_source)\n",
    "\n",
    "\n",
    "\n",
    "    corr = scipy.signal.correlate(hist_source_norm, hist_gen_norm, method='fft')\n",
    "    lags = scipy.signal.correlation_lags(len(hist_source_norm), len(hist_gen_norm))\n",
    "    fig, (ax_orig, ax_noise, ax_corr) = plt.subplots(3, 1, figsize=(4.8, 4.8))\n",
    "    ax_orig.plot(bins_source[1:], hist_source)\n",
    "    ax_orig.set_title('Original Graph')\n",
    "    ax_orig.set_yscale(\"log\")\n",
    "    \n",
    "    print(degrees_source)\n",
    "    ax_noise.plot(bins_gen[1:], hist_gen)\n",
    "    ax_noise.set_title('Generated Graph')\n",
    "    ax_noise.set_yscale(\"log\")\n",
    "    #plt.xscale(\"log\")\n",
    "    plt.xlabel(\"degree\")\n",
    "    #plt.yscale(\"log\")\n",
    "    plt.ylabel(\"number of nodes\")\n",
    "    #plt.plot(degrees, numberOfNodes)\n",
    "    ax_corr.plot(lags, corr)\n",
    "    plt.show()     \n",
    "\n",
    "GRAPH = '1140'\n",
    "#graphs = only_connected[GRAPH]#dataio.load_data('exp/SBMGNN_COLLAB/SBMGNN_COLLAB_graph_10_2023-Apr-27-16-23-35_517376/COLLAB_graph_10_to_sbmgnn.graphs')\n",
    "#source = dataio.load_data(f'generated_datasets/src/ca-condMat/sub_graph_0.edgelist.graph')[0]\n",
    "#source_nk = nk.nxadapter.nx2nk(source)\n",
    "#_id = np.argmax(corrs)\n",
    "largest_cc = graphs[0].subgraph(max(nx.connected_components(graphs[0]), key=len))\n",
    "plot_corr_deg((source), largest_cc)"
   ]
  },
  {
   "cell_type": "code",
   "execution_count": null,
   "id": "936005ee",
   "metadata": {},
   "outputs": [],
   "source": [
    "nx.draw(graphs[0].subgraph(largest_cc))"
   ]
  },
  {
   "cell_type": "code",
   "execution_count": null,
   "id": "8aebf4fd",
   "metadata": {},
   "outputs": [],
   "source": [
    "nx.draw(graphs[0])"
   ]
  },
  {
   "cell_type": "code",
   "execution_count": null,
   "id": "c4f76b38",
   "metadata": {},
   "outputs": [],
   "source": [
    "hist, bins = np.histogram(list(nx.eigenvector_centrality(source).values()), bins=10)\n",
    "plt.plot(bins[1:], hist)"
   ]
  },
  {
   "cell_type": "code",
   "execution_count": null,
   "id": "d5153b35",
   "metadata": {},
   "outputs": [],
   "source": [
    "bins[1:]"
   ]
  },
  {
   "cell_type": "code",
   "execution_count": null,
   "id": "44ae29cd",
   "metadata": {},
   "outputs": [],
   "source": [
    "import numpy\n",
    "#G = nk.nxadapter.nx2nk(graphs[0])\n",
    "dd = sorted(nk.centrality.DegreeCentrality(nk.nxadapter.nx2nk(graphs[1]), normalized=True).run().scores(), reverse=True)\n",
    "degrees, numberOfNodes = numpy.unique(dd, return_counts=True)\n",
    "plt.xscale(\"log\")\n",
    "plt.xlabel(\"degree\")\n",
    "plt.yscale(\"log\")\n",
    "plt.ylabel(\"number of nodes\")\n",
    "plt.plot(degrees, numberOfNodes)\n",
    "plt.show()"
   ]
  },
  {
   "cell_type": "code",
   "execution_count": null,
   "id": "cfccfb9d",
   "metadata": {},
   "outputs": [],
   "source": [
    "nx.eigenvector_centrality(graphs[0], max_iter=1000)"
   ]
  },
  {
   "cell_type": "markdown",
   "id": "a6c1794b",
   "metadata": {},
   "source": [
    "## Compare the validity of the generated solutions\n",
    "compare the generated graph features to the original sample\n",
    "Attributes to look for:\n",
    " 1. The graph is connected\n",
    " 2. the dregree distribution is similar\n",
    " 3. Graph edit distance (if aplicable)\n",
    " 4. "
   ]
  },
  {
   "cell_type": "code",
   "execution_count": null,
   "id": "3130462c",
   "metadata": {},
   "outputs": [],
   "source": [
    "#source = dataio.load_data('generated_datasets/src/FIRSTMM_DB/FIRSTMM_DB1.graph')[0]\n",
    "target = dataio.load_data('exp/E-R/E-R_top1000_2023-Apr-28-11-15-13_19508/top1000_to_e-r.graphs')"
   ]
  },
  {
   "cell_type": "code",
   "execution_count": null,
   "id": "bb894d54",
   "metadata": {},
   "outputs": [],
   "source": [
    "len(target)"
   ]
  },
  {
   "cell_type": "code",
   "execution_count": null,
   "id": "4505272d",
   "metadata": {},
   "outputs": [],
   "source": [
    "dd = sorted(nx.degree_centrality(source).values(), reverse=True)\n",
    "degrees, numberOfNodes = numpy.unique(dd, return_counts=True)\n",
    "plt.xscale(\"log\")\n",
    "plt.xlabel(\"degree\")\n",
    "plt.yscale(\"log\")\n",
    "plt.ylabel(\"number of nodes\")\n",
    "plt.plot(degrees, numberOfNodes)\n",
    "plt.show()"
   ]
  },
  {
   "cell_type": "code",
   "execution_count": null,
   "id": "0fc0f8a0",
   "metadata": {},
   "outputs": [],
   "source": [
    "bb = sorted(nx.betweenness_centrality(target).values(), reverse=True)\n",
    "betweenness, numberOfNodes = numpy.unique(bb, return_counts=True)\n",
    "plt.xscale(\"log\")\n",
    "plt.xlabel(\"betweenness\")\n",
    "plt.yscale(\"log\")\n",
    "plt.ylabel(\"number of nodes\")\n",
    "plt.plot(betweenness, numberOfNodes)\n",
    "plt.show()"
   ]
  },
  {
   "cell_type": "code",
   "execution_count": null,
   "id": "2e8e72b4",
   "metadata": {},
   "outputs": [],
   "source": [
    "import scipy.signal as signal\n",
    "signal.freqz(numberOfNodes)"
   ]
  },
  {
   "cell_type": "code",
   "execution_count": null,
   "id": "2a51a526",
   "metadata": {},
   "outputs": [],
   "source": [
    "numberOfNodes"
   ]
  },
  {
   "cell_type": "code",
   "execution_count": null,
   "id": "7c5774e4",
   "metadata": {},
   "outputs": [],
   "source": [
    "bb = sorted(nx.simrank_similarity(source).values(), reverse=True)\n",
    "betweenness, numberOfNodes = numpy.unique(bb, return_counts=True)\n",
    "plt.xscale(\"log\")\n",
    "plt.xlabel(\"betweenness\")\n",
    "plt.yscale(\"log\")\n",
    "plt.ylabel(\"number of nodes\")\n",
    "plt.plot(betweenness, numberOfNodes)\n",
    "plt.show()"
   ]
  },
  {
   "cell_type": "code",
   "execution_count": null,
   "id": "5d2fe363",
   "metadata": {},
   "outputs": [],
   "source": [
    "nx.simrank_similarity(nx.cycle_graph(10))"
   ]
  },
  {
   "cell_type": "code",
   "execution_count": null,
   "id": "8e40de9f",
   "metadata": {},
   "outputs": [],
   "source": []
  }
 ],
 "metadata": {
  "kernelspec": {
   "display_name": "Python 3 (ipykernel)",
   "language": "python",
   "name": "python3"
  },
  "language_info": {
   "codemirror_mode": {
    "name": "ipython",
    "version": 3
   },
   "file_extension": ".py",
   "mimetype": "text/x-python",
   "name": "python",
   "nbconvert_exporter": "python",
   "pygments_lexer": "ipython3",
   "version": "3.10.11"
  }
 },
 "nbformat": 4,
 "nbformat_minor": 5
}
