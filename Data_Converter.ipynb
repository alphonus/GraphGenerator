{
 "cells": [
  {
   "cell_type": "code",
   "execution_count": null,
   "id": "7ebf14f5",
   "metadata": {},
   "outputs": [],
   "source": [
    "import json\n",
    "import networkx as nx\n",
    "import networkit as nk\n",
    "import numpy as np\n",
    "import os\n",
    "from os.path import join, getsize\n",
    "from GraphGenerator.preprocessing import dataio"
   ]
  },
  {
   "cell_type": "code",
   "execution_count": null,
   "id": "ad9ee217",
   "metadata": {},
   "outputs": [],
   "source": [
    "for graph in data.keys():\n",
    "    #sub = data[graph].subgraph(next(nx.connected_components(data[graph])))\n",
    "    with open(f'data/reddit_threads/graph_{graph}.edgelist', 'w') as out_file:\n",
    "        for edge in data[graph]:\n",
    "            out_file.write('{} {}'.format(*edge)+'\\n')"
   ]
  },
  {
   "cell_type": "markdown",
   "id": "ce94344e",
   "metadata": {},
   "source": [
    "Analysis if the graph is disconnected"
   ]
  },
  {
   "cell_type": "code",
   "execution_count": null,
   "id": "0f890cb8",
   "metadata": {},
   "outputs": [],
   "source": [
    "for root, dirs, files in os.walk('data/ca-condMat'):\n",
    "    if root.endswith('GraphRNN'):\n",
    "        continue\n",
    "    for file in (join(root, name) for name in files):\n",
    "        if root.endswith('form'):\n",
    "            continue\n",
    "        if file.endswith('edgelist'):\n",
    "            graph = nx.read_edgelist(file)\n",
    "            fname = file.split('/')[-1].split('.')[0]\n",
    "            \n",
    "            mapping = dict(zip(graph, range(len(graph.nodes)+1)))\n",
    "            graph = nx.relabel_nodes(graph, mapping)\n",
    "            nx.write_edgelist(graph, f\"data/ca-condMat/edgelist_form/{fname}.edgelist\", data=False)\n",
    "            with open(f\"data/ca-condMat/col_form/{fname}.col\", 'w') as fileheader:\n",
    "                fileheader.write(f'p edge {len(graph.nodes)} {len(graph.edges)}\\n')\n",
    "                for edge in graph.edges:\n",
    "                    fileheader.write('e {} {}\\n'.format(*tuple(map(lambda x: x+1, edge))))"
   ]
  },
  {
   "cell_type": "markdown",
   "id": "151f6bee",
   "metadata": {},
   "source": [
    "Convert the pickled networkx graphs list to singular edlist files"
   ]
  },
  {
   "cell_type": "code",
   "execution_count": null,
   "id": "c860ab68",
   "metadata": {},
   "outputs": [],
   "source": [
    "graphs = dataio.load_data('exp/SBMGNN_COLLAB/SBMGNN_top10_2023-Apr-20-11-34-59_506098/top10_to_sbmgnn.graphs')"
   ]
  },
  {
   "cell_type": "markdown",
   "id": "1ac11c47",
   "metadata": {},
   "source": [
    "**Converts the generated Graphs from pickled networkx lists to induvidual files**\n"
   ]
  },
  {
   "cell_type": "code",
   "execution_count": null,
   "id": "3f16ea5d",
   "metadata": {},
   "outputs": [],
   "source": [
    "\n",
    "i_offset = 0\n",
    "dataset = \"ER\"\n",
    "\n",
    "\n",
    "def make_folder(path):\n",
    "    if not os.path.exists(path):\n",
    "        os.makedirs(path)\n",
    "\n",
    "[make_folder(path) for path in [f\"data/{dataset}/edge_form\", f\"data/{dataset}/col_form\"]]\n",
    "\n",
    "occs = {}\n",
    "for root, dirs, files in os.walk(f'exp/{dataset}'):\n",
    "    if root.endswith(dataset):\n",
    "        continue\n",
    "    for file in (join(root, name) for name in files):\n",
    "        if file.endswith('graphs'):\n",
    "            graphs = dataio.load_data(file)\n",
    "            fname = file.split(\"/\")[-1]\n",
    "            parent_id_s = fname.find('graph_') + 6\n",
    "            parent_id_e = fname.find('_to')\n",
    "            parent_id = fname[parent_id_s:parent_id_e]\n",
    "\n",
    "            if parent_id not in occs:\n",
    "                occs[parent_id] = 0\n",
    "            else:\n",
    "                occs[parent_id] = occs[parent_id] + 1\n",
    "            \n",
    "            if graphs[0] is None:\n",
    "                print(f\"Empty graph in {file}\")\n",
    "                continue\n",
    "            for i, graph in enumerate(graphs):\n",
    "                largest_cc = graph.subgraph(max(nx.connected_components(graph), key=len))\n",
    "                largest_cc = nx.convert_node_labels_to_integers(largest_cc, first_label=1)\n",
    "                #print(type(largest_cc))\n",
    "\n",
    "                nx.write_edgelist(largest_cc, f\"data/{dataset}/edge_form/graph_{parent_id}_{occs[parent_id]}_{i}.edgelist\", data=False)\n",
    "                with open(f\"data/{dataset}/col_form/graph_{parent_id}_{occs[parent_id]}_{i}.col\", 'w') as fileheader:\n",
    "                    fileheader.write(f'c Parent graph {dataset} No {parent_id}\\n')\n",
    "                    fileheader.write(f'p edge {len(largest_cc.nodes)} {len(largest_cc.edges)}\\n')\n",
    "                    for edge in largest_cc.edges:\n",
    "                        #print(largest_cc.edges)\n",
    "                        #fileheader.write('e {} {}\\n'.format(*tuple(map(lambda x: x+1, edge))))\n",
    "                        fileheader.write('e {} {}\\n'.format(*edge))\n",
    "                \n",
    "\n",
    "    i_offset += 1"
   ]
  },
  {
   "cell_type": "code",
   "execution_count": null,
   "id": "c8e40301",
   "metadata": {},
   "outputs": [],
   "source": [
    "graph = nk.nxadapter.nx2nk(nx.read_edgelist(\"data/ca-condMat/ca-CondMat.txt\"))\n",
    "communities = nk.community.detectCommunities(graph)\n",
    "nk.community.Modularity().getQuality(communities, graph)\n"
   ]
  },
  {
   "cell_type": "code",
   "execution_count": null,
   "id": "10f74c43",
   "metadata": {},
   "outputs": [],
   "source": [
    "for set_id in communities.getSubsetIds():\n",
    "    subgraph = nk.graphtools.subgraphFromNodes(graph, communities.getMembers(set_id))\n",
    "    if subgraph.numberOfNodes() < 100:\n",
    "        continue\n",
    "    nk.graphio.writeGraph(subgraph, f\"data/ca-condMat/sub_graph_{set_id}.edgelist\", nk.Format.EdgeListSpaceZero)\n"
   ]
  },
  {
   "cell_type": "code",
   "execution_count": null,
   "id": "84d2b882",
   "metadata": {},
   "outputs": [],
   "source": [
    "i = 0\n",
    "for c in gen:\n",
    "    nx.write_edgelist(graph.subgraph(c), f\"data/ca-condMat/sub_graph_{i}.edgelist\")\n",
    "    i += 1"
   ]
  },
  {
   "cell_type": "markdown",
   "id": "3e61cb7a",
   "metadata": {},
   "source": [
    "## Convert the Graphs from TU-DO format to induvidual edgelists"
   ]
  },
  {
   "cell_type": "code",
   "execution_count": null,
   "id": "0338616c",
   "metadata": {},
   "outputs": [],
   "source": [
    "FOLDER = \"DD\"\n",
    "graph = nk.readGraph(f\"{FOLDER}_A.txt\", nk.Format.EdgeListCommaOne)\n",
    "graph.removeMultiEdges()\n",
    "graph.removeSelfLoops()\n",
    "graph_allocation = np.loadtxt(f\"{FOLDER}_graph_indicator.txt\", dtype=int)\n",
    "for graph_id in np.unique(graph_allocation):\n",
    "    subgraph = nk.graphtools.subgraphFromNodes(graph, (graph_allocation==graph_id).nonzero()[0])\n",
    "    \n",
    "    nk.writeGraph(subgraph, f'{FOLDER}_graph_{graph_id}.edgelist', nk.Format.EdgeListSpaceZero)"
   ]
  },
  {
   "cell_type": "code",
   "execution_count": null,
   "id": "9c09d553",
   "metadata": {},
   "outputs": [],
   "source": [
    "import os\n",
    "os.chdir(\"/home/martin/devel/uni/thesis/Generator/GraphGenerator/generated_datasets/DD/\")"
   ]
  },
  {
   "cell_type": "code",
   "execution_count": null,
   "id": "b3ee3e71",
   "metadata": {},
   "outputs": [],
   "source": [
    "!ls"
   ]
  },
  {
   "cell_type": "code",
   "execution_count": null,
   "id": "69f9933e",
   "metadata": {},
   "outputs": [],
   "source": []
  }
 ],
 "metadata": {
  "kernelspec": {
   "display_name": "Python 3 (ipykernel)",
   "language": "python",
   "name": "python3"
  },
  "language_info": {
   "codemirror_mode": {
    "name": "ipython",
    "version": 3
   },
   "file_extension": ".py",
   "mimetype": "text/x-python",
   "name": "python",
   "nbconvert_exporter": "python",
   "pygments_lexer": "ipython3",
   "version": "3.10.11"
  }
 },
 "nbformat": 4,
 "nbformat_minor": 5
}
